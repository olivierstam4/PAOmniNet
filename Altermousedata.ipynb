{
 "cells": [
  {
   "cell_type": "code",
   "id": "initial_id",
   "metadata": {
    "collapsed": true,
    "ExecuteTime": {
     "end_time": "2024-12-13T12:22:36.863817Z",
     "start_time": "2024-12-13T12:22:23.767357Z"
    }
   },
   "source": [
    "import h5py\n",
    "import cv2\n",
    "import numpy as np\n",
    "import os\n",
    "\n",
    "def resize_and_save_dataset(file_paths):\n",
    "    for file_path in file_paths:\n",
    "        with h5py.File(file_path, 'r') as infile:\n",
    "            first_key = list(infile.keys())[0]\n",
    "            data = infile[first_key][()]\n",
    "\n",
    "        # Resize data\n",
    "        resized_data = np.zeros((data.shape[0], 256, 256), dtype=data.dtype)\n",
    "        for i in range(data.shape[0]):\n",
    "            resized_data[i] = cv2.resize(data[i], (256, 256), interpolation=cv2.INTER_LINEAR)\n",
    "\n",
    "        # Save resized dataset to a new file\n",
    "        new_file_path = os.path.splitext(file_path)[0] + \"_256.mat\"\n",
    "        with h5py.File(new_file_path, 'w') as outfile:\n",
    "            outfile.create_dataset(first_key, data=resized_data)\n",
    "\n",
    "        # Print proofs of resizing\n",
    "        print(f\"Original shape for {file_path}: {data.shape}\")\n",
    "        print(f\"Resized shape for {new_file_path}: {resized_data.shape}\")\n",
    "\n",
    "# List of file paths\n",
    "mice = [\n",
    "    '../Datasets/optoacousticsparse/mice_sparse16_recon.mat',\n",
    "    '../Datasets/optoacousticsparse/mice_sparse32_recon.mat',\n",
    "    '../Datasets/optoacousticsparse/mice_sparse128_recon.mat'\n",
    "]\n",
    "\n",
    "v_phantom = ['../Datasets/optoacousticsparse/phantom_sparse16_recon.mat',\n",
    "             '../Datasets/optoacousticsparse/phantom_sparse32_recon.mat',\n",
    "             '../Datasets/optoacousticsparse/phantom_full_recon.mat']\n",
    "\n",
    "# Resize datasets and save\n",
    "resize_and_save_dataset(v_phantom)\n"
   ],
   "outputs": [
    {
     "name": "stdout",
     "output_type": "stream",
     "text": [
      "Original shape for ../Datasets/optoacousticsparse/phantom_sparse16_recon.mat: (469, 512, 512)\n",
      "Resized shape for ../Datasets/optoacousticsparse/phantom_sparse16_recon_256.mat: (469, 256, 256)\n",
      "Original shape for ../Datasets/optoacousticsparse/phantom_sparse32_recon.mat: (469, 512, 512)\n",
      "Resized shape for ../Datasets/optoacousticsparse/phantom_sparse32_recon_256.mat: (469, 256, 256)\n",
      "Original shape for ../Datasets/optoacousticsparse/phantom_full_recon.mat: (469, 512, 512)\n",
      "Resized shape for ../Datasets/optoacousticsparse/phantom_full_recon_256.mat: (469, 256, 256)\n"
     ]
    }
   ],
   "execution_count": 3
  }
 ],
 "metadata": {
  "kernelspec": {
   "display_name": "Python 3",
   "language": "python",
   "name": "python3"
  },
  "language_info": {
   "codemirror_mode": {
    "name": "ipython",
    "version": 2
   },
   "file_extension": ".py",
   "mimetype": "text/x-python",
   "name": "python",
   "nbconvert_exporter": "python",
   "pygments_lexer": "ipython2",
   "version": "2.7.6"
  }
 },
 "nbformat": 4,
 "nbformat_minor": 5
}
